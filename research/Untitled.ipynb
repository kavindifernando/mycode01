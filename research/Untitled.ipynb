{
 "cells": [
  {
   "cell_type": "code",
   "execution_count": 22,
   "id": "2bdeffc1",
   "metadata": {},
   "outputs": [
    {
     "name": "stderr",
     "output_type": "stream",
     "text": [
      "[nltk_data] Downloading package punkt to\n",
      "[nltk_data]     C:\\Users\\kavindi\\AppData\\Roaming\\nltk_data...\n",
      "[nltk_data]   Package punkt is already up-to-date!\n",
      "[nltk_data] Downloading package stopwords to\n",
      "[nltk_data]     C:\\Users\\kavindi\\AppData\\Roaming\\nltk_data...\n",
      "[nltk_data]   Package stopwords is already up-to-date!\n"
     ]
    }
   ],
   "source": [
    "#1\n",
    "import os\n",
    "import re\n",
    "import nltk\n",
    "nltk.download('punkt')\n",
    "nltk.download('stopwords')\n",
    "#to tokenization\n",
    "from nltk.tokenize import word_tokenize\n",
    "#to get stopwords\n",
    "from nltk.corpus import stopwords\n",
    "#for stemming\n",
    "from nltk.stem import PorterStemmer"
   ]
  },
  {
   "cell_type": "code",
   "execution_count": 3,
   "id": "6831c6f3",
   "metadata": {},
   "outputs": [
    {
     "name": "stdout",
     "output_type": "stream",
     "text": [
      "{}\n"
     ]
    }
   ],
   "source": [
    "filel = []\n",
    "dictionary=dict()\n",
    "def positional_index():\n",
    "    #go through each doc separatly\n",
    "    for doc in range(1,10):\n",
    "        #put documnet ids and open them for read\n",
    "        with open(str(os.getcwd())+'/original/speech_'+str(doc)+'.txt','r') as file:\n",
    "            speech=file.read().replace('\\n','')[1:]\n",
    "            #print('sentences',speech)\n",
    "\n",
    "            #replace occurances \n",
    "            speech=re.sub(r'\\t',' ',speech)\n",
    "            speech=re.sub(r\"won't\",'  will not',speech)\n",
    "            speech=re.sub(r\"can't\",'  can not',speech)\n",
    "            speech=re.sub(r\"'re\",' are',speech)\n",
    "            speech=re.sub(r\"'s\",' is',speech)\n",
    "            speech=re.sub(r\"'ll\",' will',speech)\n",
    "            speech=re.sub(r\"'t\",' not',speech)\n",
    "            speech=re.sub(r\"'ve\",' have',speech)\n",
    "            speech=re.sub(r\"'m\",' am',speech)\n",
    "            speech=re.sub(r\"[^\\w\\s]\",' ',speech)\n",
    "\n",
    "            #print('sentences',speech)\n",
    "\n",
    "            #tokenizing\n",
    "            speecht=word_tokenize(str(speech).lower())\n",
    "            print(speecht)\n",
    "\n",
    "            #remove stopwords\n",
    "            stop_words=stopwords.words('english')\n",
    "            speechs=[word for word in speecht if word not in stop_words]\n",
    "            #print(speechs)\n",
    "\n",
    "            #stemming\n",
    "            ps = PorterStemmer()\n",
    "            speechst=[]\n",
    "            \n",
    "            for i in speechs:\n",
    "                speechst.append(ps.stem(i))\n",
    "            #print(speechst)   \n",
    "\n",
    "            #creating positional index\n",
    "\n",
    "            #create temperally dictionary\n",
    "            temp_dict= dict()\n",
    "            #count\n",
    "            c=0\n",
    "            for x in speechst:\n",
    "                key = x\n",
    "                temp_dict.setdefault(key,[])\n",
    "                temp_dict[key].append(c)\n",
    "                c += 1\n",
    "\n",
    "            #print(temp_dic)\n",
    "\n",
    "            #main dictionary\n",
    "            for x in temp_dict:\n",
    "                #find it in original dictionary\n",
    "                if dictionary.get(x):\n",
    "                    dictionary[x][doc]=temp_dict.get(x)\n",
    "                    #unable to find\n",
    "                else:\n",
    "                    key=x\n",
    "                    dictionary.setdefault(key,[])\n",
    "                    dictionary[key]={}\n",
    "                    dictionary[key][doc]=temp_dict.get(x)\n",
    "print(dictionary)"
   ]
  },
  {
   "cell_type": "markdown",
   "id": "b8f6f97f",
   "metadata": {},
   "source": [
    "open a document https://stackoverflow.com/questions/14676265/how-to-read-a-text-file-into-a-list-or-an-array-with-python"
   ]
  },
  {
   "cell_type": "code",
   "execution_count": 33,
   "id": "e3c00e4b",
   "metadata": {},
   "outputs": [],
   "source": [
    "with open(\"tech.txt\",\"r\") as doc1:\n",
    "    tech=doc1.read().replace('\\n','')[1:]"
   ]
  },
  {
   "cell_type": "code",
   "execution_count": 34,
   "id": "bf164dfa",
   "metadata": {},
   "outputs": [
    {
     "name": "stdout",
     "output_type": "stream",
     "text": [
      "he other common type of ink in elections is indelible visible ink - but as the elections in Afghanistan showed, improper use of this type of ink can cause additional problems.The use of ink and readers by itself is not a panacea for election ills.The use of \"invisible\" ink is not without its own problems.The use of ink is only one part of a general effort to show commitment towards more open elections - the German Embassy, the Soros Foundation and the Kyrgyz government have all contributed to purchase transparent ballot boxes.The author of one such article began a petition drive against the use of the ink.The use of ink has been controversial - especially among groups perceived to be pro-government.In an effort to live up to its reputation in the 1990s as \"an island of democracy\", the Kyrgyz President, Askar Akaev, pushed through the law requiring the use of ink during the upcoming Parliamentary and Presidential elections.At the entrance to each polling station, one election official will scan voter's fingers with UV lamp before allowing them to enter, and every voter will have his/her left thumb sprayed with ink before receiving the ballot.The ink is sprayed on a person's left thumb.If the ink shows under the UV light the voter will not be allowed to enter the polling station.The actual technology behind the ink is not that complicated.The Kyrgyz Republic, a small, mountainous state of the former Soviet republic, is using invisible ink and ultraviolet readers in the country's elections as part of a drive to prevent multiple voting.This type of ink has been used in many elections in the world, in countries as varied as Serbia, South Africa, Indonesia and Turkey.\n"
     ]
    }
   ],
   "source": [
    "print(tech)"
   ]
  },
  {
   "cell_type": "code",
   "execution_count": 35,
   "id": "b49a5628",
   "metadata": {},
   "outputs": [],
   "source": [
    "tech=re.sub(r'\\t',' ',tech)\n",
    "tech=re.sub(r\"won't\",'  will not',tech)\n",
    "tech=re.sub(r\"can't\",'  can not',tech)\n",
    "tech=re.sub(r\"'re\",' are',tech)\n",
    "tech=re.sub(r\"'s\",' is',tech)\n",
    "tech=re.sub(r\"'ll\",' will',tech)\n",
    "tech=re.sub(r\"'t\",' not',tech)\n",
    "tech=re.sub(r\"'ve\",' have',tech)\n",
    "tech=re.sub(r\"'m\",' am',tech)\n",
    "tech=re.sub(r\",\",' ',tech)\n",
    "tech=re.sub(r\"``\",' ',tech)\n",
    "tech=re.sub(r\"-\",' ',tech)\n",
    "\n",
    "\n"
   ]
  },
  {
   "cell_type": "markdown",
   "id": "55bb750e",
   "metadata": {},
   "source": [
    "use tokenizer in nltk lib\n",
    "https://www.nltk.org/api/nltk.tokenize.html\n"
   ]
  },
  {
   "cell_type": "code",
   "execution_count": 36,
   "id": "74c5b5c1",
   "metadata": {},
   "outputs": [],
   "source": [
    "tech=word_tokenize(str(tech).lower())"
   ]
  },
  {
   "cell_type": "code",
   "execution_count": 37,
   "id": "beae6266",
   "metadata": {},
   "outputs": [
    {
     "name": "stdout",
     "output_type": "stream",
     "text": [
      "['he', 'other', 'common', 'type', 'of', 'ink', 'in', 'elections', 'is', 'indelible', 'visible', 'ink', 'but', 'as', 'the', 'elections', 'in', 'afghanistan', 'showed', 'improper', 'use', 'of', 'this', 'type', 'of', 'ink', 'can', 'cause', 'additional', 'problems.the', 'use', 'of', 'ink', 'and', 'readers', 'by', 'itself', 'is', 'not', 'a', 'panacea', 'for', 'election', 'ills.the', 'use', 'of', '``', 'invisible', \"''\", 'ink', 'is', 'not', 'without', 'its', 'own', 'problems.the', 'use', 'of', 'ink', 'is', 'only', 'one', 'part', 'of', 'a', 'general', 'effort', 'to', 'show', 'commitment', 'towards', 'more', 'open', 'elections', 'the', 'german', 'embassy', 'the', 'soros', 'foundation', 'and', 'the', 'kyrgyz', 'government', 'have', 'all', 'contributed', 'to', 'purchase', 'transparent', 'ballot', 'boxes.the', 'author', 'of', 'one', 'such', 'article', 'began', 'a', 'petition', 'drive', 'against', 'the', 'use', 'of', 'the', 'ink.the', 'use', 'of', 'ink', 'has', 'been', 'controversial', 'especially', 'among', 'groups', 'perceived', 'to', 'be', 'pro', 'government.in', 'an', 'effort', 'to', 'live', 'up', 'to', 'its', 'reputation', 'in', 'the', '1990s', 'as', '``', 'an', 'island', 'of', 'democracy', \"''\", 'the', 'kyrgyz', 'president', 'askar', 'akaev', 'pushed', 'through', 'the', 'law', 'requiring', 'the', 'use', 'of', 'ink', 'during', 'the', 'upcoming', 'parliamentary', 'and', 'presidential', 'elections.at', 'the', 'entrance', 'to', 'each', 'polling', 'station', 'one', 'election', 'official', 'will', 'scan', 'voter', 'is', 'fingers', 'with', 'uv', 'lamp', 'before', 'allowing', 'them', 'to', 'enter', 'and', 'every', 'voter', 'will', 'have', 'his/her', 'left', 'thumb', 'sprayed', 'with', 'ink', 'before', 'receiving', 'the', 'ballot.the', 'ink', 'is', 'sprayed', 'on', 'a', 'person', 'is', 'left', 'thumb.if', 'the', 'ink', 'shows', 'under', 'the', 'uv', 'light', 'the', 'voter', 'will', 'not', 'be', 'allowed', 'to', 'enter', 'the', 'polling', 'station.the', 'actual', 'technology', 'behind', 'the', 'ink', 'is', 'not', 'that', 'complicated.the', 'kyrgyz', 'republic', 'a', 'small', 'mountainous', 'state', 'of', 'the', 'former', 'soviet', 'republic', 'is', 'using', 'invisible', 'ink', 'and', 'ultraviolet', 'readers', 'in', 'the', 'country', 'is', 'elections', 'as', 'part', 'of', 'a', 'drive', 'to', 'prevent', 'multiple', 'voting.this', 'type', 'of', 'ink', 'has', 'been', 'used', 'in', 'many', 'elections', 'in', 'the', 'world', 'in', 'countries', 'as', 'varied', 'as', 'serbia', 'south', 'africa', 'indonesia', 'and', 'turkey', '.']\n"
     ]
    }
   ],
   "source": [
    "print(tech)"
   ]
  },
  {
   "cell_type": "markdown",
   "id": "e3aef0c4",
   "metadata": {},
   "source": [
    "remove stopwords \n",
    "https://www.geeksforgeeks.org/removing-stop-words-nltk-python/"
   ]
  },
  {
   "cell_type": "code",
   "execution_count": 38,
   "id": "415548c2",
   "metadata": {},
   "outputs": [],
   "source": [
    "stop_words = set(stopwords.words('english'))"
   ]
  },
  {
   "cell_type": "code",
   "execution_count": 39,
   "id": "c4270f42",
   "metadata": {},
   "outputs": [],
   "source": [
    "filtered_sentence = [w for w in tech if not w.lower() in stop_words]"
   ]
  },
  {
   "cell_type": "code",
   "execution_count": 40,
   "id": "81c30797",
   "metadata": {},
   "outputs": [
    {
     "name": "stdout",
     "output_type": "stream",
     "text": [
      "['common', 'type', 'ink', 'elections', 'indelible', 'visible', 'ink', 'elections', 'afghanistan', 'showed', 'improper', 'use', 'type', 'ink', 'cause', 'additional', 'problems.the', 'use', 'ink', 'readers', 'panacea', 'election', 'ills.the', 'use', '``', 'invisible', \"''\", 'ink', 'without', 'problems.the', 'use', 'ink', 'one', 'part', 'general', 'effort', 'show', 'commitment', 'towards', 'open', 'elections', 'german', 'embassy', 'soros', 'foundation', 'kyrgyz', 'government', 'contributed', 'purchase', 'transparent', 'ballot', 'boxes.the', 'author', 'one', 'article', 'began', 'petition', 'drive', 'use', 'ink.the', 'use', 'ink', 'controversial', 'especially', 'among', 'groups', 'perceived', 'pro', 'government.in', 'effort', 'live', 'reputation', '1990s', '``', 'island', 'democracy', \"''\", 'kyrgyz', 'president', 'askar', 'akaev', 'pushed', 'law', 'requiring', 'use', 'ink', 'upcoming', 'parliamentary', 'presidential', 'elections.at', 'entrance', 'polling', 'station', 'one', 'election', 'official', 'scan', 'voter', 'fingers', 'uv', 'lamp', 'allowing', 'enter', 'every', 'voter', 'his/her', 'left', 'thumb', 'sprayed', 'ink', 'receiving', 'ballot.the', 'ink', 'sprayed', 'person', 'left', 'thumb.if', 'ink', 'shows', 'uv', 'light', 'voter', 'allowed', 'enter', 'polling', 'station.the', 'actual', 'technology', 'behind', 'ink', 'complicated.the', 'kyrgyz', 'republic', 'small', 'mountainous', 'state', 'former', 'soviet', 'republic', 'using', 'invisible', 'ink', 'ultraviolet', 'readers', 'country', 'elections', 'part', 'drive', 'prevent', 'multiple', 'voting.this', 'type', 'ink', 'used', 'many', 'elections', 'world', 'countries', 'varied', 'serbia', 'south', 'africa', 'indonesia', 'turkey', '.']\n"
     ]
    }
   ],
   "source": [
    "print(filtered_sentence)"
   ]
  },
  {
   "cell_type": "markdown",
   "id": "596afd65",
   "metadata": {},
   "source": [
    "poterstemmer https://machinelearningknowledge.ai/beginners-guide-to-stemming-in-python-nltk/"
   ]
  },
  {
   "cell_type": "code",
   "execution_count": 41,
   "id": "0d4ca973",
   "metadata": {},
   "outputs": [],
   "source": [
    "porter = PorterStemmer()"
   ]
  },
  {
   "cell_type": "code",
   "execution_count": 42,
   "id": "e603e396",
   "metadata": {},
   "outputs": [
    {
     "name": "stdout",
     "output_type": "stream",
     "text": [
      "common ---> common\n",
      "type ---> type\n",
      "ink ---> ink\n",
      "elections ---> elect\n",
      "indelible ---> indel\n",
      "visible ---> visibl\n",
      "ink ---> ink\n",
      "elections ---> elect\n",
      "afghanistan ---> afghanistan\n",
      "showed ---> show\n",
      "improper ---> improp\n",
      "use ---> use\n",
      "type ---> type\n",
      "ink ---> ink\n",
      "cause ---> caus\n",
      "additional ---> addit\n",
      "problems.the ---> problems.th\n",
      "use ---> use\n",
      "ink ---> ink\n",
      "readers ---> reader\n",
      "panacea ---> panacea\n",
      "election ---> elect\n",
      "ills.the ---> ills.th\n",
      "use ---> use\n",
      "`` ---> ``\n",
      "invisible ---> invis\n",
      "'' ---> ''\n",
      "ink ---> ink\n",
      "without ---> without\n",
      "problems.the ---> problems.th\n",
      "use ---> use\n",
      "ink ---> ink\n",
      "one ---> one\n",
      "part ---> part\n",
      "general ---> gener\n",
      "effort ---> effort\n",
      "show ---> show\n",
      "commitment ---> commit\n",
      "towards ---> toward\n",
      "open ---> open\n",
      "elections ---> elect\n",
      "german ---> german\n",
      "embassy ---> embassi\n",
      "soros ---> soro\n",
      "foundation ---> foundat\n",
      "kyrgyz ---> kyrgyz\n",
      "government ---> govern\n",
      "contributed ---> contribut\n",
      "purchase ---> purchas\n",
      "transparent ---> transpar\n",
      "ballot ---> ballot\n",
      "boxes.the ---> boxes.th\n",
      "author ---> author\n",
      "one ---> one\n",
      "article ---> articl\n",
      "began ---> began\n",
      "petition ---> petit\n",
      "drive ---> drive\n",
      "use ---> use\n",
      "ink.the ---> ink.th\n",
      "use ---> use\n",
      "ink ---> ink\n",
      "controversial ---> controversi\n",
      "especially ---> especi\n",
      "among ---> among\n",
      "groups ---> group\n",
      "perceived ---> perceiv\n",
      "pro ---> pro\n",
      "government.in ---> government.in\n",
      "effort ---> effort\n",
      "live ---> live\n",
      "reputation ---> reput\n",
      "1990s ---> 1990\n",
      "`` ---> ``\n",
      "island ---> island\n",
      "democracy ---> democraci\n",
      "'' ---> ''\n",
      "kyrgyz ---> kyrgyz\n",
      "president ---> presid\n",
      "askar ---> askar\n",
      "akaev ---> akaev\n",
      "pushed ---> push\n",
      "law ---> law\n",
      "requiring ---> requir\n",
      "use ---> use\n",
      "ink ---> ink\n",
      "upcoming ---> upcom\n",
      "parliamentary ---> parliamentari\n",
      "presidential ---> presidenti\n",
      "elections.at ---> elections.at\n",
      "entrance ---> entranc\n",
      "polling ---> poll\n",
      "station ---> station\n",
      "one ---> one\n",
      "election ---> elect\n",
      "official ---> offici\n",
      "scan ---> scan\n",
      "voter ---> voter\n",
      "fingers ---> finger\n",
      "uv ---> uv\n",
      "lamp ---> lamp\n",
      "allowing ---> allow\n",
      "enter ---> enter\n",
      "every ---> everi\n",
      "voter ---> voter\n",
      "his/her ---> his/her\n",
      "left ---> left\n",
      "thumb ---> thumb\n",
      "sprayed ---> spray\n",
      "ink ---> ink\n",
      "receiving ---> receiv\n",
      "ballot.the ---> ballot.th\n",
      "ink ---> ink\n",
      "sprayed ---> spray\n",
      "person ---> person\n",
      "left ---> left\n",
      "thumb.if ---> thumb.if\n",
      "ink ---> ink\n",
      "shows ---> show\n",
      "uv ---> uv\n",
      "light ---> light\n",
      "voter ---> voter\n",
      "allowed ---> allow\n",
      "enter ---> enter\n",
      "polling ---> poll\n",
      "station.the ---> station.th\n",
      "actual ---> actual\n",
      "technology ---> technolog\n",
      "behind ---> behind\n",
      "ink ---> ink\n",
      "complicated.the ---> complicated.th\n",
      "kyrgyz ---> kyrgyz\n",
      "republic ---> republ\n",
      "small ---> small\n",
      "mountainous ---> mountain\n",
      "state ---> state\n",
      "former ---> former\n",
      "soviet ---> soviet\n",
      "republic ---> republ\n",
      "using ---> use\n",
      "invisible ---> invis\n",
      "ink ---> ink\n",
      "ultraviolet ---> ultraviolet\n",
      "readers ---> reader\n",
      "country ---> countri\n",
      "elections ---> elect\n",
      "part ---> part\n",
      "drive ---> drive\n",
      "prevent ---> prevent\n",
      "multiple ---> multipl\n",
      "voting.this ---> voting.thi\n",
      "type ---> type\n",
      "ink ---> ink\n",
      "used ---> use\n",
      "many ---> mani\n",
      "elections ---> elect\n",
      "world ---> world\n",
      "countries ---> countri\n",
      "varied ---> vari\n",
      "serbia ---> serbia\n",
      "south ---> south\n",
      "africa ---> africa\n",
      "indonesia ---> indonesia\n",
      "turkey ---> turkey\n",
      ". ---> .\n"
     ]
    }
   ],
   "source": [
    "for word in filtered_sentence:\n",
    "    print(word,\"--->\",porter.stem(word))"
   ]
  },
  {
   "cell_type": "code",
   "execution_count": null,
   "id": "358ba8b7",
   "metadata": {},
   "outputs": [],
   "source": []
  }
 ],
 "metadata": {
  "kernelspec": {
   "display_name": "Python 3",
   "language": "python",
   "name": "python3"
  },
  "language_info": {
   "codemirror_mode": {
    "name": "ipython",
    "version": 3
   },
   "file_extension": ".py",
   "mimetype": "text/x-python",
   "name": "python",
   "nbconvert_exporter": "python",
   "pygments_lexer": "ipython3",
   "version": "3.8.8"
  }
 },
 "nbformat": 4,
 "nbformat_minor": 5
}
